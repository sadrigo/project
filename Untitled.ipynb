{
 "cells": [
  {
   "cell_type": "markdown",
   "id": "23991dff-84be-4a52-8308-46ce59965663",
   "metadata": {},
   "source": [
    "# My Jupyter Notebook on IBM Watson Studio"
   ]
  },
  {
   "cell_type": "markdown",
   "id": "92674bcc-c215-47b6-8255-dbcfc4667887",
   "metadata": {},
   "source": [
    "__Sadek Khmiri__"
   ]
  },
  {
   "cell_type": "markdown",
   "id": "c77cdb46-be57-43d0-a9ff-c3945c257d2d",
   "metadata": {},
   "source": [
    "IBM data scientist"
   ]
  },
  {
   "cell_type": "markdown",
   "id": "faead3c5-6141-4c88-a7c2-c6db925d1332",
   "metadata": {},
   "source": [
    "_I am interested in data science because it is the best field that suits me, being good in algorithme and having the ability to think faster than anyone else is a gift that must be used_"
   ]
  },
  {
   "cell_type": "markdown",
   "id": "eb5aab85-c53c-4526-9195-8d2a79333c24",
   "metadata": {},
   "source": [
    "### we will find out what 5+5=?"
   ]
  },
  {
   "cell_type": "code",
   "execution_count": 1,
   "id": "a6aabad6-cbe3-4abb-97f0-d6ac3cb2d3ef",
   "metadata": {},
   "outputs": [
    {
     "data": {
      "text/plain": [
       "10"
      ]
     },
     "execution_count": 1,
     "metadata": {},
     "output_type": "execute_result"
    }
   ],
   "source": [
    "5+5"
   ]
  },
  {
   "cell_type": "markdown",
   "id": "c6b0653b-535f-434c-a874-8a95b61550f8",
   "metadata": {},
   "source": [
    "- one\n",
    "- two\n",
    "- three\n",
    "\n",
    "***\n",
    "<img src=\"https://hips.hearstapps.com/hmg-prod.s3.amazonaws.com/images/sunset-quotes-21-1586531574.jpg?crop=1.00xw:0.752xh;0,0.0601xh&resize=980:*\" alt=\"Alt text that describes the graphic\" title=\"Title text\" />"
   ]
  },
  {
   "cell_type": "code",
   "execution_count": null,
   "id": "48f4e683-84b4-460f-ad0e-9df9cfa1ffc6",
   "metadata": {},
   "outputs": [],
   "source": []
  }
 ],
 "metadata": {
  "kernelspec": {
   "display_name": "Python",
   "language": "python",
   "name": "conda-env-python-py"
  },
  "language_info": {
   "codemirror_mode": {
    "name": "ipython",
    "version": 3
   },
   "file_extension": ".py",
   "mimetype": "text/x-python",
   "name": "python",
   "nbconvert_exporter": "python",
   "pygments_lexer": "ipython3",
   "version": "3.7.12"
  }
 },
 "nbformat": 4,
 "nbformat_minor": 5
}
